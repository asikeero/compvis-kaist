{
 "cells": [
  {
   "cell_type": "code",
   "execution_count": 1,
   "metadata": {},
   "outputs": [
    {
     "name": "stdout",
     "output_type": "stream",
     "text": [
      "using cuda:0\n"
     ]
    }
   ],
   "source": [
    "import os\n",
    "import numpy as np\n",
    "import matplotlib.pyplot as plt\n",
    "\n",
    "import torch\n",
    "import torchvision\n",
    "import torch.nn as nn\n",
    "from torch.nn import functional as F\n",
    "from torchvision import transforms\n",
    "\n",
    "import utils\n",
    "\n",
    "device = 'cuda:0' if torch.cuda.is_available() else 'cpu'\n",
    "print(f'using {device}')"
   ]
  },
  {
   "cell_type": "code",
   "execution_count": 2,
   "metadata": {},
   "outputs": [],
   "source": [
    "# load in data and scale to [-1, 1]\n",
    "transform = transforms.Compose([\n",
    "    transforms.ToTensor(),\n",
    "    transforms.Normalize((0.5,), (0.5,))\n",
    "])\n",
    "\n",
    "data_folder = 'data'\n",
    "trainset = torchvision.datasets.MNIST(root=data_folder, train=True, download=True, transform=transform)\n",
    "testset = torchvision.datasets.MNIST(root=data_folder, train=False, download=True, transform=transform);"
   ]
  },
  {
   "cell_type": "code",
   "execution_count": 3,
   "metadata": {},
   "outputs": [],
   "source": [
    "# build the generator\n",
    "class Generator(nn.Module):\n",
    "    def __init__(self, nz=10, ngf=64, nc=1):\n",
    "        \"\"\"\n",
    "        Args:\n",
    "          nz: Number of elements in the sampled z vector\n",
    "          ngf: Base size (number of channels) in the generator layers\n",
    "          nc: Number of channels in the generated images\n",
    "        \"\"\"\n",
    "        super().__init__()\n",
    "        self.nz = nz\n",
    "        self.ngf = ngf\n",
    "        self.nc = nc\n",
    "        self.layer1 = nn.Sequential(\n",
    "            nn.ConvTranspose2d(nz, 4*ngf, 4, bias=False, stride=2, padding=0),\n",
    "            nn.BatchNorm2d(4*ngf),\n",
    "            nn.ReLU(),\n",
    "        )\n",
    "        self.layer2 = nn.Sequential(\n",
    "            nn.ConvTranspose2d(4*ngf, 2*ngf, 4, bias=False, stride=2, padding=1),\n",
    "            nn.BatchNorm2d(2*ngf),\n",
    "            nn.ReLU(),\n",
    "        )\n",
    "        self.layer3 = nn.Sequential(\n",
    "            nn.ConvTranspose2d(2*ngf, ngf, 4, bias=False, stride=2, padding=1),\n",
    "            nn.BatchNorm2d(ngf),\n",
    "            nn.ReLU(),\n",
    "        )\n",
    "        self.layer4 = nn.Sequential(\n",
    "            nn.ConvTranspose2d(ngf, nc, 4, bias=False, stride=2, padding=3),\n",
    "            nn.Tanh(),\n",
    "        )\n",
    "        \n",
    "    def forward(self, z, verbose=False):\n",
    "        \"\"\"Generate images by transforming the given noise vector z\n",
    "        \n",
    "        Args:\n",
    "            z of shape (batch_size, nz, 1, 1)\n",
    "            \n",
    "        Returns:\n",
    "            output of shape (batch_size, nc, 28, 28)\n",
    "        \"\"\"\n",
    "        out1 = self.layer1(z)\n",
    "        out2 = self.layer2(out1)\n",
    "        out3 = self.layer3(out2)\n",
    "        out4 = self.layer4(out3)\n",
    "        \n",
    "        if verbose:\n",
    "            print(f\"Layer1 shape: {out1.shape}\")\n",
    "            print(f\"Layer2 shape: {out2.shape}\")\n",
    "            print(f\"Layer3 shape: {out3.shape}\")\n",
    "            print(f\"Layer4 shape: {out4.shape}\")\n",
    "\n",
    "        return out4"
   ]
  },
  {
   "cell_type": "code",
   "execution_count": 4,
   "metadata": {},
   "outputs": [
    {
     "name": "stdout",
     "output_type": "stream",
     "text": [
      "Model loaded from models/CGANgenerator\n"
     ]
    }
   ],
   "source": [
    "# load pretrained generator from part 2\n",
    "def load_model(model, filename):\n",
    "    model.load_state_dict(torch.load(filename, map_location=lambda storage, loc: storage))\n",
    "    print(f'Model loaded from {filename}')\n",
    "    model.eval()\n",
    "    \n",
    "g_file = 'models/CGANgenerator'\n",
    "netG = Generator(nz=20, ngf=64, nc=1)\n",
    "load_model(netG, g_file)"
   ]
  },
  {
   "cell_type": "code",
   "execution_count": 5,
   "metadata": {},
   "outputs": [],
   "source": [
    "# adding the conditional information\n",
    "def one_hot_encode(labels, num_classes=10):\n",
    "    \"\"\"given labels of shape (labels) \n",
    "    return OHE representation of shape (labels, num_classes, 1, 1)\n",
    "    \"\"\"\n",
    "    return F.one_hot(labels, num_classes).unsqueeze(-1).unsqueeze(-1)\n",
    "\n",
    "def combine(x, y):\n",
    "    \"\"\"For adding class labels to random data\"\"\"\n",
    "    return torch.cat([x, y.float()], dim=1)\n"
   ]
  },
  {
   "cell_type": "code",
   "execution_count": 6,
   "metadata": {},
   "outputs": [],
   "source": [
    "def generate_images(labels):\n",
    "    \"\"\"Output a generated image with specified labels\n",
    "    Args:\n",
    "        labels: list of labels 0-9\n",
    "    \"\"\"\n",
    "    n = len(labels)\n",
    "    labels = torch.LongTensor(labels)\n",
    "    ohe = one_hot_encode(labels)\n",
    "    z = torch.randn(n, 10, 1, 1)\n",
    "    z_data = combine(z, ohe)\n",
    "    with torch.no_grad():\n",
    "        output = netG(z_data)\n",
    "    return output"
   ]
  },
  {
   "cell_type": "code",
   "execution_count": 7,
   "metadata": {},
   "outputs": [
    {
     "data": {
      "image/png": "[encoded data removed]",
      "text/plain": [
       "<Figure size 576x576 with 1 Axes>"
      ]
     },
     "metadata": {},
     "output_type": "display_data"
    }
   ],
   "source": [
    "utils.plot_generated_samples(generate_images([0,1,2,3,4,5,6,7,8,9]))"
   ]
  },
  {
   "cell_type": "markdown",
   "metadata": {},
   "source": [
    "Use lenet as a classification network with the following architecture\n",
    "\n",
    "* 2d convolutional layer with:\n",
    "    * one input channel\n",
    "    * 6 output channels\n",
    "    * kernel size 5 (no padding)\n",
    "    * followed by ReLU\n",
    "* Max-pooling layer with kernel size 2 and stride 2\n",
    "* 2d convolutional layer with:\n",
    "    * 16 output channels\n",
    "    * kernel size 5 (no padding)\n",
    "    * followed by ReLU\n",
    "* Max-pooling layer with kernel size 2 and stride 2\n",
    "* A fully-connected layer with:\n",
    "    * 120 outputs\n",
    "    * followed by ReLU\n",
    "* A fully-connected layer with:\n",
    "    * 84 outputs\n",
    "    * followed by ReLU\n",
    "* A fully-connected layer with 10 outputs and without nonlinearity."
   ]
  },
  {
   "cell_type": "code",
   "execution_count": 8,
   "metadata": {},
   "outputs": [],
   "source": [
    "# Create a image classifier inspired by lenet\n",
    "class LeNet5(nn.Module):\n",
    "    def __init__(self):\n",
    "        super(LeNet5, self).__init__()\n",
    "        # YOUR CODE HERE\n",
    "        self.layers = nn.Sequential(\n",
    "            nn.Conv2d(1, 6, 5), # 6 x 24 x 24\n",
    "            nn.ReLU(),\n",
    "            nn.MaxPool2d(kernel_size=2, stride=2), # 6 x 12 x 12\n",
    "            nn.Conv2d(6, 16, 5), # 16 x 8 x 8\n",
    "            nn.ReLU(),\n",
    "            nn.MaxPool2d(2, 2), # 16 x 4 x 4\n",
    "            nn.Flatten(),\n",
    "            nn.Linear(16 * 4 * 4, 120),\n",
    "            nn.ReLU(),\n",
    "            nn.Linear(120, 84),\n",
    "            nn.ReLU(),\n",
    "            nn.Linear(84, 10),\n",
    "        )\n",
    "\n",
    "    def forward(self, x):\n",
    "        \"\"\"\n",
    "        Args:\n",
    "          x of shape (batch_size, 1, 28, 28): Input images.\n",
    "        \n",
    "        Returns:\n",
    "          y of shape (batch_size, 10): Outputs of the network.\n",
    "        \"\"\"\n",
    "        return self.layers(x)"
   ]
  },
  {
   "cell_type": "code",
   "execution_count": 9,
   "metadata": {},
   "outputs": [],
   "source": [
    "def validate(classifier):\n",
    "    \"\"\"Get accuracy on the testing set\"\"\"\n",
    "    testloader = torch.utils.data.DataLoader(testset, batch_size=25)\n",
    "    total_images = len(testset)\n",
    "    total_correct = 0\n",
    "    with torch.no_grad():\n",
    "        for images, labels in testloader:\n",
    "            images = images.to(device)\n",
    "            labels = labels.to(device)\n",
    "            logits = classifier(images)\n",
    "            preds = logits.argmax(dim=1)\n",
    "            correct = torch.count_nonzero(labels == preds)\n",
    "            total_correct += correct.item()\n",
    "    \n",
    "    return total_correct / total_images"
   ]
  },
  {
   "cell_type": "code",
   "execution_count": null,
   "metadata": {},
   "outputs": [],
   "source": [
    "# first train using the whole real training data\n",
    "model = LeNet5().to(device)\n",
    "trainloader = torch.utils.data.DataLoader(trainset, batch_size=500, num_workers=4, shuffle=True)\n",
    "optimizer = torch.optim.Adam(model.parameters(), lr=0.005)\n",
    "loss_fn = nn.CrossEntropyLoss()\n",
    "epochs = 10\n",
    "\n",
    "for epoch in range(epochs):\n",
    "    losses = []\n",
    "    for images, labels in trainloader:\n",
    "        images = images.to(device)\n",
    "        labels = labels.to(device)\n",
    "\n",
    "        optimizer.zero_grad()\n",
    "        logits = model(images)\n",
    "        loss = loss_fn(logits, labels)\n",
    "        losses.append(loss.item())\n",
    "        loss.backward()\n",
    "        optimizer.step()\n",
    "\n",
    "    print(f'Epoch: {epoch+1}, loss={np.mean(losses):.3f}, acc={validate(model)}')"
   ]
  },
  {
   "cell_type": "code",
   "execution_count": null,
   "metadata": {},
   "outputs": [],
   "source": [
    "validate(model)"
   ]
  },
  {
   "cell_type": "markdown",
   "metadata": {},
   "source": [
    "So training with the entire real data we can achieve at least 99 % accuracy.\n",
    "\n",
    "Next lets try training with a small subset of the real data."
   ]
  },
  {
   "cell_type": "code",
   "execution_count": 79,
   "metadata": {},
   "outputs": [
    {
     "name": "stdout",
     "output_type": "stream",
     "text": [
      "1800\n",
      "Epoch: 1, loss=2.268, acc=0.3748\n",
      "Epoch: 2, loss=1.843, acc=0.4943\n",
      "Epoch: 3, loss=1.215, acc=0.6706\n",
      "Epoch: 4, loss=0.929, acc=0.7055\n",
      "Epoch: 5, loss=0.751, acc=0.7767\n",
      "Epoch: 6, loss=0.575, acc=0.8275\n",
      "Epoch: 7, loss=0.468, acc=0.8679\n",
      "Epoch: 8, loss=0.376, acc=0.8901\n",
      "Epoch: 9, loss=0.303, acc=0.9066\n",
      "Epoch: 10, loss=0.250, acc=0.9119\n",
      "Epoch: 11, loss=0.224, acc=0.924\n",
      "Epoch: 12, loss=0.181, acc=0.9294\n",
      "Epoch: 13, loss=0.156, acc=0.9329\n",
      "Epoch: 14, loss=0.137, acc=0.9296\n",
      "Epoch: 15, loss=0.121, acc=0.938\n",
      "Epoch: 16, loss=0.098, acc=0.9395\n",
      "Epoch: 17, loss=0.091, acc=0.9415\n",
      "Epoch: 18, loss=0.077, acc=0.9471\n",
      "Epoch: 19, loss=0.070, acc=0.9467\n",
      "Epoch: 20, loss=0.057, acc=0.9456\n"
     ]
    }
   ],
   "source": [
    "trainset_size = len(trainset)\n",
    "percentage = 0.03\n",
    "n_to_take = int(trainset_size * percentage)\n",
    "print(n_to_take)\n",
    "indices = np.random.choice(range(0, trainset_size), size=n_to_take, replace=False)\n",
    "train_subset = torch.utils.data.Subset(trainset, indices)\n",
    "\n",
    "model = LeNet5().to(device)\n",
    "trainloader = torch.utils.data.DataLoader(train_subset, batch_size=500, num_workers=4, shuffle=True)\n",
    "optimizer = torch.optim.Adam(model.parameters(), lr=0.005)\n",
    "loss_fn = nn.CrossEntropyLoss()\n",
    "epochs = 20\n",
    "\n",
    "for epoch in range(epochs):\n",
    "    losses = []\n",
    "    if epoch == 30:\n",
    "            optimizer.param_groups[0]['lr'] = 0.0005  # decrease lr when halfway through training\n",
    "    for images, labels in trainloader:\n",
    "        images = images.to(device)\n",
    "        labels = labels.to(device)\n",
    "\n",
    "        optimizer.zero_grad()\n",
    "        logits = model(images)\n",
    "        loss = loss_fn(logits, labels)\n",
    "        losses.append(loss.item())\n",
    "        loss.backward()\n",
    "        optimizer.step()\n",
    "\n",
    "    print(f'Epoch: {epoch+1}, loss={np.mean(losses):.3f}, acc={validate(model)}')"
   ]
  },
  {
   "cell_type": "markdown",
   "metadata": {},
   "source": [
    "So just using a randomly selected 10% of the real training data, the model is able to achieve 97% percent accuracy.\n",
    "\n",
    "Now lets start mixing real training data and the fake images generated by our generator."
   ]
  },
  {
   "cell_type": "code",
   "execution_count": 10,
   "metadata": {},
   "outputs": [],
   "source": [
    "class FakeDataset(torch.utils.data.Dataset):\n",
    "    def __init__(self, n):\n",
    "        # create labels\n",
    "        self.n = n\n",
    "        self.labels = np.random.choice(range(0, 10), size=self.n, replace=True).tolist()\n",
    "        self.images = generate_images(self.labels)\n",
    "        \n",
    "    def __len__(self):\n",
    "        return self.n\n",
    "    \n",
    "    def __getitem__(self, index):\n",
    "        return (self.images[index], self.labels[index])"
   ]
  },
  {
   "cell_type": "code",
   "execution_count": 15,
   "metadata": {},
   "outputs": [],
   "source": [
    "fakeset = FakeDataset(60_000)"
   ]
  },
  {
   "cell_type": "code",
   "execution_count": 16,
   "metadata": {},
   "outputs": [],
   "source": [
    "def generate_trainingset(n_images, n_real):\n",
    "    \"\"\"Generate a mixed training set\n",
    "    Args:\n",
    "        n_images: how many images in total the set should include\n",
    "        n_real: how many real images should be used\n",
    "    \"\"\"\n",
    "    n_fake = n_images - n_real\n",
    "    # take random subset of the real data\n",
    "    trainset_size = len(trainset)\n",
    "    indices_real = np.random.choice(range(0, trainset_size), size=n_real, replace=False)\n",
    "    train_subset = torch.utils.data.Subset(trainset, indices_real)\n",
    "    \n",
    "    # generate fake images\n",
    "    fakeset_size = len(fakeset)\n",
    "    indices_fake = np.random.choice(range(0, fakeset_size), size=n_fake, replace=False)\n",
    "    fake_subset = torch.utils.data.Subset(fakeset, indices_fake)\n",
    "    # and combine\n",
    "    generated_set = torch.utils.data.ConcatDataset([train_subset, fake_subset])\n",
    "    return generated_set"
   ]
  },
  {
   "cell_type": "markdown",
   "metadata": {},
   "source": [
    "lets try training with 100% fake data"
   ]
  },
  {
   "cell_type": "code",
   "execution_count": 36,
   "metadata": {},
   "outputs": [],
   "source": [
    "def mixed_training(n_images, n_real, epochs=10):\n",
    "    model = LeNet5().to(device)\n",
    "    generated_trainset = generate_trainingset(n_images, n_real)\n",
    "    trainloader = torch.utils.data.DataLoader(generated_trainset, batch_size=1024, num_workers=4, shuffle=True)\n",
    "    optimizer = torch.optim.Adam(model.parameters(), lr=0.005)\n",
    "    loss_fn = nn.CrossEntropyLoss()\n",
    "\n",
    "    for epoch in range(epochs):\n",
    "        if epoch >= (epochs / 2):\n",
    "            optimizer.param_groups[0]['lr'] = 0.0005  # decrease lr when halfway through training\n",
    "        losses = []\n",
    "        for images, labels in trainloader:\n",
    "            images = images.to(device)\n",
    "            labels = labels.to(device)\n",
    "\n",
    "            optimizer.zero_grad()\n",
    "            logits = model(images)\n",
    "            loss = loss_fn(logits, labels)\n",
    "            losses.append(loss.item())\n",
    "            loss.backward()\n",
    "            optimizer.step()\n",
    "\n",
    "        print(f'Epoch: {epoch+1}, loss={np.mean(losses):.3f}, acc={validate(model)}')\n",
    "    return model"
   ]
  },
  {
   "cell_type": "code",
   "execution_count": 26,
   "metadata": {},
   "outputs": [
    {
     "name": "stdout",
     "output_type": "stream",
     "text": [
      "Epoch: 1, loss=0.498, acc=0.9304\n",
      "Epoch: 2, loss=0.048, acc=0.9577\n",
      "Epoch: 3, loss=0.024, acc=0.9615\n",
      "Epoch: 4, loss=0.017, acc=0.9556\n",
      "Epoch: 5, loss=0.014, acc=0.9641\n",
      "Epoch: 6, loss=0.014, acc=0.9625\n",
      "Epoch: 7, loss=0.009, acc=0.9598\n",
      "Epoch: 8, loss=0.006, acc=0.9578\n",
      "Epoch: 9, loss=0.006, acc=0.9626\n",
      "Epoch: 10, loss=0.007, acc=0.9655\n",
      "Epoch: 11, loss=0.002, acc=0.9642\n",
      "Epoch: 12, loss=0.001, acc=0.9646\n",
      "Epoch: 13, loss=0.001, acc=0.9651\n",
      "Epoch: 14, loss=0.001, acc=0.964\n",
      "Epoch: 15, loss=0.001, acc=0.9644\n",
      "Epoch: 16, loss=0.001, acc=0.9636\n",
      "Epoch: 17, loss=0.001, acc=0.9649\n",
      "Epoch: 18, loss=0.001, acc=0.9649\n",
      "Epoch: 19, loss=0.001, acc=0.9637\n",
      "Epoch: 20, loss=0.001, acc=0.9648\n"
     ]
    }
   ],
   "source": [
    "mixed_training(60_000, 0, epochs=12)"
   ]
  },
  {
   "cell_type": "markdown",
   "metadata": {},
   "source": [
    "So as we can see, using 60 000 fake images, we achieve an accuracy of around 96% at best.\n",
    "\n",
    "Lets try next using only 5% of real data"
   ]
  },
  {
   "cell_type": "code",
   "execution_count": 31,
   "metadata": {},
   "outputs": [
    {
     "name": "stdout",
     "output_type": "stream",
     "text": [
      "Epoch: 1, loss=0.509, acc=0.935\n",
      "Epoch: 2, loss=0.057, acc=0.9528\n",
      "Epoch: 3, loss=0.035, acc=0.9618\n",
      "Epoch: 4, loss=0.023, acc=0.9678\n",
      "Epoch: 5, loss=0.018, acc=0.9674\n",
      "Epoch: 6, loss=0.015, acc=0.9646\n",
      "Epoch: 7, loss=0.012, acc=0.9713\n",
      "Epoch: 8, loss=0.013, acc=0.9724\n",
      "Epoch: 9, loss=0.010, acc=0.9696\n",
      "Epoch: 10, loss=0.007, acc=0.9715\n",
      "Epoch: 11, loss=0.004, acc=0.9758\n",
      "Epoch: 12, loss=0.002, acc=0.9762\n",
      "Epoch: 13, loss=0.002, acc=0.9754\n",
      "Epoch: 14, loss=0.002, acc=0.976\n",
      "Epoch: 15, loss=0.002, acc=0.9762\n",
      "Epoch: 16, loss=0.002, acc=0.9759\n",
      "Epoch: 17, loss=0.001, acc=0.9756\n",
      "Epoch: 18, loss=0.001, acc=0.976\n",
      "Epoch: 19, loss=0.001, acc=0.9759\n",
      "Epoch: 20, loss=0.001, acc=0.9756\n"
     ]
    }
   ],
   "source": [
    "# 5 % of real data\n",
    "mixed_training(60_000, 3000, epochs=20)"
   ]
  },
  {
   "cell_type": "code",
   "execution_count": 32,
   "metadata": {},
   "outputs": [
    {
     "name": "stdout",
     "output_type": "stream",
     "text": [
      "Epoch: 1, loss=0.521, acc=0.9351\n",
      "Epoch: 2, loss=0.079, acc=0.9537\n",
      "Epoch: 3, loss=0.049, acc=0.9637\n",
      "Epoch: 4, loss=0.035, acc=0.9635\n",
      "Epoch: 5, loss=0.030, acc=0.9687\n",
      "Epoch: 6, loss=0.026, acc=0.9621\n",
      "Epoch: 7, loss=0.021, acc=0.9702\n",
      "Epoch: 8, loss=0.018, acc=0.971\n",
      "Epoch: 9, loss=0.015, acc=0.9751\n",
      "Epoch: 10, loss=0.014, acc=0.9737\n",
      "Epoch: 11, loss=0.008, acc=0.9781\n",
      "Epoch: 12, loss=0.006, acc=0.9784\n",
      "Epoch: 13, loss=0.005, acc=0.9789\n",
      "Epoch: 14, loss=0.005, acc=0.9786\n",
      "Epoch: 15, loss=0.005, acc=0.9783\n",
      "Epoch: 16, loss=0.004, acc=0.9775\n",
      "Epoch: 17, loss=0.004, acc=0.9777\n",
      "Epoch: 18, loss=0.004, acc=0.9788\n",
      "Epoch: 19, loss=0.004, acc=0.9779\n",
      "Epoch: 20, loss=0.004, acc=0.9776\n"
     ]
    }
   ],
   "source": [
    "# 10 % real data\n",
    "mixed_training(60_000, 6_000, epochs=20)"
   ]
  },
  {
   "cell_type": "code",
   "execution_count": 33,
   "metadata": {},
   "outputs": [
    {
     "name": "stdout",
     "output_type": "stream",
     "text": [
      "Epoch: 1, loss=0.629, acc=0.9299\n",
      "Epoch: 2, loss=0.081, acc=0.9628\n",
      "Epoch: 3, loss=0.048, acc=0.9684\n",
      "Epoch: 4, loss=0.036, acc=0.97\n",
      "Epoch: 5, loss=0.032, acc=0.9752\n",
      "Epoch: 6, loss=0.022, acc=0.9759\n",
      "Epoch: 7, loss=0.019, acc=0.9769\n",
      "Epoch: 8, loss=0.016, acc=0.9774\n",
      "Epoch: 9, loss=0.014, acc=0.9782\n",
      "Epoch: 10, loss=0.015, acc=0.9769\n",
      "Epoch: 11, loss=0.007, acc=0.9825\n",
      "Epoch: 12, loss=0.005, acc=0.9828\n",
      "Epoch: 13, loss=0.004, acc=0.9822\n",
      "Epoch: 14, loss=0.004, acc=0.9832\n",
      "Epoch: 15, loss=0.003, acc=0.9831\n",
      "Epoch: 16, loss=0.003, acc=0.9827\n",
      "Epoch: 17, loss=0.003, acc=0.9825\n",
      "Epoch: 18, loss=0.003, acc=0.9828\n",
      "Epoch: 19, loss=0.002, acc=0.9826\n",
      "Epoch: 20, loss=0.002, acc=0.9826\n"
     ]
    }
   ],
   "source": [
    "# 20 % real data\n",
    "mixed_training(60_000, 12_000, epochs=20)"
   ]
  },
  {
   "cell_type": "code",
   "execution_count": 34,
   "metadata": {},
   "outputs": [
    {
     "name": "stdout",
     "output_type": "stream",
     "text": [
      "Epoch: 1, loss=0.627, acc=0.9499\n",
      "Epoch: 2, loss=0.092, acc=0.975\n",
      "Epoch: 3, loss=0.056, acc=0.9769\n",
      "Epoch: 4, loss=0.047, acc=0.9793\n",
      "Epoch: 5, loss=0.036, acc=0.984\n",
      "Epoch: 6, loss=0.033, acc=0.9825\n",
      "Epoch: 7, loss=0.027, acc=0.9855\n",
      "Epoch: 8, loss=0.023, acc=0.988\n",
      "Epoch: 9, loss=0.018, acc=0.985\n",
      "Epoch: 10, loss=0.018, acc=0.9847\n",
      "Epoch: 11, loss=0.010, acc=0.9892\n",
      "Epoch: 12, loss=0.007, acc=0.9893\n",
      "Epoch: 13, loss=0.007, acc=0.9887\n",
      "Epoch: 14, loss=0.006, acc=0.989\n",
      "Epoch: 15, loss=0.006, acc=0.989\n",
      "Epoch: 16, loss=0.005, acc=0.9888\n",
      "Epoch: 17, loss=0.005, acc=0.989\n",
      "Epoch: 18, loss=0.005, acc=0.9884\n",
      "Epoch: 19, loss=0.004, acc=0.9888\n",
      "Epoch: 20, loss=0.004, acc=0.988\n"
     ]
    }
   ],
   "source": [
    "# 50% real data\n",
    "mixed_training(60_000, 30_000, epochs=20)"
   ]
  },
  {
   "cell_type": "code",
   "execution_count": 38,
   "metadata": {},
   "outputs": [
    {
     "name": "stdout",
     "output_type": "stream",
     "text": [
      "Epoch: 1, loss=0.595, acc=0.9589\n",
      "Epoch: 2, loss=0.105, acc=0.9744\n",
      "Epoch: 3, loss=0.071, acc=0.9819\n",
      "Epoch: 4, loss=0.054, acc=0.9856\n",
      "Epoch: 5, loss=0.046, acc=0.9884\n",
      "Epoch: 6, loss=0.036, acc=0.9889\n",
      "Epoch: 7, loss=0.031, acc=0.9856\n",
      "Epoch: 8, loss=0.027, acc=0.9873\n",
      "Epoch: 9, loss=0.025, acc=0.987\n",
      "Epoch: 10, loss=0.022, acc=0.9873\n",
      "Epoch: 11, loss=0.012, acc=0.9908\n",
      "Epoch: 12, loss=0.010, acc=0.9915\n",
      "Epoch: 13, loss=0.009, acc=0.9912\n",
      "Epoch: 14, loss=0.009, acc=0.9916\n",
      "Epoch: 15, loss=0.008, acc=0.9917\n",
      "Epoch: 16, loss=0.008, acc=0.9919\n",
      "Epoch: 17, loss=0.008, acc=0.9914\n",
      "Epoch: 18, loss=0.007, acc=0.9916\n",
      "Epoch: 19, loss=0.007, acc=0.9918\n",
      "Epoch: 20, loss=0.007, acc=0.9916\n"
     ]
    }
   ],
   "source": [
    "# 100 % real data\n",
    "m = mixed_training(60_000, 60_000, epochs=20)"
   ]
  },
  {
   "cell_type": "code",
   "execution_count": 62,
   "metadata": {},
   "outputs": [],
   "source": [
    "# find out what real examples the model misclassifies\n",
    "testloader = torch.utils.data.DataLoader(testset, batch_size=1)\n",
    "misclassified = []\n",
    "for image, label in testloader:\n",
    "    image = image.to(device)\n",
    "    pred = m(image).argmax(dim=1).item()\n",
    "    label = label.item()\n",
    "    if pred != label:\n",
    "        misclassified.append((image, label))"
   ]
  },
  {
   "cell_type": "code",
   "execution_count": 64,
   "metadata": {},
   "outputs": [
    {
     "data": {
      "image/png": "[encoded data removed]",
      "text/plain": [
       "<Figure size 576x576 with 1 Axes>"
      ]
     },
     "metadata": {},
     "output_type": "display_data"
    }
   ],
   "source": [
    "for_plotting = torch.concat([misclassified[n][0] for n in range(48)])\n",
    "utils.plot_generated_samples(for_plotting, savename='misclassified-real.jpg')"
   ]
  },
  {
   "cell_type": "code",
   "execution_count": 57,
   "metadata": {},
   "outputs": [],
   "source": [
    "# find out what fake examples the model misclassifies\n",
    "testloader = torch.utils.data.DataLoader(fakeset, batch_size=1)\n",
    "misclassified = []\n",
    "for image, label in testloader:\n",
    "    image = image.to(device)\n",
    "    pred = m(image).argmax(dim=1).item()\n",
    "    label = label.item()\n",
    "    if pred != label:\n",
    "        misclassified.append((image, label))"
   ]
  },
  {
   "cell_type": "code",
   "execution_count": 61,
   "metadata": {},
   "outputs": [
    {
     "data": {
      "image/png": "[encoded data removed]",
      "text/plain": [
       "<Figure size 576x576 with 1 Axes>"
      ]
     },
     "metadata": {},
     "output_type": "display_data"
    }
   ],
   "source": [
    "for_plotting = torch.concat([misclassified[n][0] for n in range(48)])\n",
    "utils.plot_generated_samples(for_plotting, savename='misclassified-fake.jpg')"
   ]
  },
  {
   "cell_type": "code",
   "execution_count": 77,
   "metadata": {},
   "outputs": [
    {
     "name": "stdout",
     "output_type": "stream",
     "text": [
      "Epoch: 1, loss=1.706, acc=0.7073\n",
      "Epoch: 2, loss=0.521, acc=0.8846\n",
      "Epoch: 3, loss=0.239, acc=0.9207\n",
      "Epoch: 4, loss=0.138, acc=0.9371\n",
      "Epoch: 5, loss=0.096, acc=0.9476\n",
      "Epoch: 6, loss=0.067, acc=0.955\n",
      "Epoch: 7, loss=0.057, acc=0.955\n",
      "Epoch: 8, loss=0.049, acc=0.9604\n",
      "Epoch: 9, loss=0.040, acc=0.9626\n",
      "Epoch: 10, loss=0.032, acc=0.965\n",
      "Epoch: 11, loss=0.028, acc=0.9642\n",
      "Epoch: 12, loss=0.024, acc=0.9639\n",
      "Epoch: 13, loss=0.030, acc=0.965\n",
      "Epoch: 14, loss=0.026, acc=0.9646\n",
      "Epoch: 15, loss=0.020, acc=0.9667\n",
      "Epoch: 16, loss=0.014, acc=0.9704\n",
      "Epoch: 17, loss=0.011, acc=0.9704\n",
      "Epoch: 18, loss=0.010, acc=0.9708\n",
      "Epoch: 19, loss=0.009, acc=0.9711\n",
      "Epoch: 20, loss=0.009, acc=0.9706\n"
     ]
    }
   ],
   "source": [
    "# less data in total\n",
    "# 3% of total, 1800 real samples + 3200 fake\n",
    "\n",
    "model = LeNet5().to(device)\n",
    "generated_trainset = generate_trainingset(10_000, 1800)\n",
    "trainloader = torch.utils.data.DataLoader(generated_trainset, batch_size=1024, num_workers=4, shuffle=True)\n",
    "optimizer = torch.optim.Adam(model.parameters(), lr=0.005)\n",
    "loss_fn = nn.CrossEntropyLoss()\n",
    "epochs = 20\n",
    "\n",
    "for epoch in range(epochs):\n",
    "    if epoch == 15:\n",
    "        optimizer.param_groups[0]['lr'] = 0.0005  # decrease lr when halfway through training\n",
    "    losses = []\n",
    "    for images, labels in trainloader:\n",
    "        images = images.to(device)\n",
    "        labels = labels.to(device)\n",
    "\n",
    "        optimizer.zero_grad()\n",
    "        logits = model(images)\n",
    "        loss = loss_fn(logits, labels)\n",
    "        losses.append(loss.item())\n",
    "        loss.backward()\n",
    "        optimizer.step()\n",
    "\n",
    "    print(f'Epoch: {epoch+1}, loss={np.mean(losses):.3f}, acc={validate(model)}')\n"
   ]
  },
  {
   "cell_type": "code",
   "execution_count": 81,
   "metadata": {},
   "outputs": [
    {
     "data": {
      "text/plain": [
       "-0.025000000000000022"
      ]
     },
     "execution_count": 81,
     "metadata": {},
     "output_type": "execute_result"
    }
   ],
   "source": [
    "0.9456 - 0.9706"
   ]
  }
 ],
 "metadata": {
  "kernelspec": {
   "display_name": "Python 3",
   "language": "python",
   "name": "python3"
  },
  "language_info": {
   "codemirror_mode": {
    "name": "ipython",
    "version": 3
   },
   "file_extension": ".py",
   "mimetype": "text/x-python",
   "name": "python",
   "nbconvert_exporter": "python",
   "pygments_lexer": "ipython3",
   "version": "3.7.7"
  },
  "varInspector": {
   "cols": {
    "lenName": 16,
    "lenType": 16,
    "lenVar": 40
   },
   "kernels_config": {
    "python": {
     "delete_cmd_postfix": "",
     "delete_cmd_prefix": "del ",
     "library": "var_list.py",
     "varRefreshCmd": "print(var_dic_list())"
    },
    "r": {
     "delete_cmd_postfix": ") ",
     "delete_cmd_prefix": "rm(",
     "library": "var_list.r",
     "varRefreshCmd": "cat(var_dic_list()) "
    }
   },
   "types_to_exclude": [
    "module",
    "function",
    "builtin_function_or_method",
    "instance",
    "_Feature"
   ],
   "window_display": false
  }
 },
 "nbformat": 4,
 "nbformat_minor": 5
}
